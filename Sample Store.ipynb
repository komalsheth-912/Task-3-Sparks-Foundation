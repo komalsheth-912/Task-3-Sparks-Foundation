{
 "cells": [
  {
   "cell_type": "markdown",
   "id": "0ab138b8",
   "metadata": {},
   "source": [
    "# Task 3 :  ‘Exploratory Data Analysis’ on dataset ‘SampleSuperstore’\n",
    "\n",
    "   \n",
    "\n",
    "    Github Profile: https://github.com/komalsheth-912/Task-3-Sparks-Foundation.git\n",
    "    \n",
    "    LinkedIn Profile : www.linkedin.com/in/komal-sheth-367051102\n",
    "    \n",
    "    Author : Komal Ketan Sheth"
   ]
  },
  {
   "cell_type": "markdown",
   "id": "dc054d0e",
   "metadata": {},
   "source": [
    "GRIP February'22\n",
    "\n",
    "# Retail Data :\n",
    "    \n",
    "     As a business manager, try to find out the weak areas where you can work to make more profit.\n",
    "     What all business problems you can derive by exploring the data?"
   ]
  },
  {
   "cell_type": "code",
   "execution_count": 61,
   "id": "011d583e",
   "metadata": {},
   "outputs": [],
   "source": [
    "#Import necessary libraries\n",
    "import pandas as pd\n",
    "import numpy as np\n",
    "import matplotlib.pyplot as plt\n",
    "import matplotlib.pyplot as plot\n",
    "import matplotlib.ticker as tk\n",
    "%matplotlib inline\n",
    "import seaborn as sns"
   ]
  },
  {
   "cell_type": "code",
   "execution_count": 2,
   "id": "2c743ea8",
   "metadata": {},
   "outputs": [],
   "source": [
    "#Read csv\n",
    "store=pd.read_csv(\"SampleSuperstore.csv\")"
   ]
  },
  {
   "cell_type": "code",
   "execution_count": 3,
   "id": "4855d136",
   "metadata": {},
   "outputs": [
    {
     "data": {
      "text/html": [
       "<div>\n",
       "<style scoped>\n",
       "    .dataframe tbody tr th:only-of-type {\n",
       "        vertical-align: middle;\n",
       "    }\n",
       "\n",
       "    .dataframe tbody tr th {\n",
       "        vertical-align: top;\n",
       "    }\n",
       "\n",
       "    .dataframe thead th {\n",
       "        text-align: right;\n",
       "    }\n",
       "</style>\n",
       "<table border=\"1\" class=\"dataframe\">\n",
       "  <thead>\n",
       "    <tr style=\"text-align: right;\">\n",
       "      <th></th>\n",
       "      <th>Ship Mode</th>\n",
       "      <th>Segment</th>\n",
       "      <th>Country</th>\n",
       "      <th>City</th>\n",
       "      <th>State</th>\n",
       "      <th>Postal Code</th>\n",
       "      <th>Region</th>\n",
       "      <th>Category</th>\n",
       "      <th>Sub-Category</th>\n",
       "      <th>Sales</th>\n",
       "      <th>Quantity</th>\n",
       "      <th>Discount</th>\n",
       "      <th>Profit</th>\n",
       "    </tr>\n",
       "  </thead>\n",
       "  <tbody>\n",
       "    <tr>\n",
       "      <th>0</th>\n",
       "      <td>Second Class</td>\n",
       "      <td>Consumer</td>\n",
       "      <td>United States</td>\n",
       "      <td>Henderson</td>\n",
       "      <td>Kentucky</td>\n",
       "      <td>42420</td>\n",
       "      <td>South</td>\n",
       "      <td>Furniture</td>\n",
       "      <td>Bookcases</td>\n",
       "      <td>261.9600</td>\n",
       "      <td>2</td>\n",
       "      <td>0.00</td>\n",
       "      <td>41.9136</td>\n",
       "    </tr>\n",
       "    <tr>\n",
       "      <th>1</th>\n",
       "      <td>Second Class</td>\n",
       "      <td>Consumer</td>\n",
       "      <td>United States</td>\n",
       "      <td>Henderson</td>\n",
       "      <td>Kentucky</td>\n",
       "      <td>42420</td>\n",
       "      <td>South</td>\n",
       "      <td>Furniture</td>\n",
       "      <td>Chairs</td>\n",
       "      <td>731.9400</td>\n",
       "      <td>3</td>\n",
       "      <td>0.00</td>\n",
       "      <td>219.5820</td>\n",
       "    </tr>\n",
       "    <tr>\n",
       "      <th>2</th>\n",
       "      <td>Second Class</td>\n",
       "      <td>Corporate</td>\n",
       "      <td>United States</td>\n",
       "      <td>Los Angeles</td>\n",
       "      <td>California</td>\n",
       "      <td>90036</td>\n",
       "      <td>West</td>\n",
       "      <td>Office Supplies</td>\n",
       "      <td>Labels</td>\n",
       "      <td>14.6200</td>\n",
       "      <td>2</td>\n",
       "      <td>0.00</td>\n",
       "      <td>6.8714</td>\n",
       "    </tr>\n",
       "    <tr>\n",
       "      <th>3</th>\n",
       "      <td>Standard Class</td>\n",
       "      <td>Consumer</td>\n",
       "      <td>United States</td>\n",
       "      <td>Fort Lauderdale</td>\n",
       "      <td>Florida</td>\n",
       "      <td>33311</td>\n",
       "      <td>South</td>\n",
       "      <td>Furniture</td>\n",
       "      <td>Tables</td>\n",
       "      <td>957.5775</td>\n",
       "      <td>5</td>\n",
       "      <td>0.45</td>\n",
       "      <td>-383.0310</td>\n",
       "    </tr>\n",
       "    <tr>\n",
       "      <th>4</th>\n",
       "      <td>Standard Class</td>\n",
       "      <td>Consumer</td>\n",
       "      <td>United States</td>\n",
       "      <td>Fort Lauderdale</td>\n",
       "      <td>Florida</td>\n",
       "      <td>33311</td>\n",
       "      <td>South</td>\n",
       "      <td>Office Supplies</td>\n",
       "      <td>Storage</td>\n",
       "      <td>22.3680</td>\n",
       "      <td>2</td>\n",
       "      <td>0.20</td>\n",
       "      <td>2.5164</td>\n",
       "    </tr>\n",
       "  </tbody>\n",
       "</table>\n",
       "</div>"
      ],
      "text/plain": [
       "        Ship Mode    Segment        Country             City       State  \\\n",
       "0    Second Class   Consumer  United States        Henderson    Kentucky   \n",
       "1    Second Class   Consumer  United States        Henderson    Kentucky   \n",
       "2    Second Class  Corporate  United States      Los Angeles  California   \n",
       "3  Standard Class   Consumer  United States  Fort Lauderdale     Florida   \n",
       "4  Standard Class   Consumer  United States  Fort Lauderdale     Florida   \n",
       "\n",
       "   Postal Code Region         Category Sub-Category     Sales  Quantity  \\\n",
       "0        42420  South        Furniture    Bookcases  261.9600         2   \n",
       "1        42420  South        Furniture       Chairs  731.9400         3   \n",
       "2        90036   West  Office Supplies       Labels   14.6200         2   \n",
       "3        33311  South        Furniture       Tables  957.5775         5   \n",
       "4        33311  South  Office Supplies      Storage   22.3680         2   \n",
       "\n",
       "   Discount    Profit  \n",
       "0      0.00   41.9136  \n",
       "1      0.00  219.5820  \n",
       "2      0.00    6.8714  \n",
       "3      0.45 -383.0310  \n",
       "4      0.20    2.5164  "
      ]
     },
     "execution_count": 3,
     "metadata": {},
     "output_type": "execute_result"
    }
   ],
   "source": [
    "store.head()"
   ]
  },
  {
   "cell_type": "markdown",
   "id": "d0299ba4",
   "metadata": {},
   "source": [
    "# Understanding the Data :\n"
   ]
  },
  {
   "cell_type": "code",
   "execution_count": 4,
   "id": "978960ed",
   "metadata": {},
   "outputs": [
    {
     "name": "stdout",
     "output_type": "stream",
     "text": [
      "<class 'pandas.core.frame.DataFrame'>\n",
      "RangeIndex: 9994 entries, 0 to 9993\n",
      "Data columns (total 13 columns):\n",
      " #   Column        Non-Null Count  Dtype  \n",
      "---  ------        --------------  -----  \n",
      " 0   Ship Mode     9994 non-null   object \n",
      " 1   Segment       9994 non-null   object \n",
      " 2   Country       9994 non-null   object \n",
      " 3   City          9994 non-null   object \n",
      " 4   State         9994 non-null   object \n",
      " 5   Postal Code   9994 non-null   int64  \n",
      " 6   Region        9994 non-null   object \n",
      " 7   Category      9994 non-null   object \n",
      " 8   Sub-Category  9994 non-null   object \n",
      " 9   Sales         9994 non-null   float64\n",
      " 10  Quantity      9994 non-null   int64  \n",
      " 11  Discount      9994 non-null   float64\n",
      " 12  Profit        9994 non-null   float64\n",
      "dtypes: float64(3), int64(2), object(8)\n",
      "memory usage: 1015.1+ KB\n"
     ]
    }
   ],
   "source": [
    "store.info()"
   ]
  },
  {
   "cell_type": "code",
   "execution_count": 5,
   "id": "6fda254c",
   "metadata": {},
   "outputs": [
    {
     "data": {
      "text/plain": [
       "(9994, 13)"
      ]
     },
     "execution_count": 5,
     "metadata": {},
     "output_type": "execute_result"
    }
   ],
   "source": [
    "store.shape"
   ]
  },
  {
   "cell_type": "code",
   "execution_count": 6,
   "id": "433199f8",
   "metadata": {},
   "outputs": [
    {
     "data": {
      "text/html": [
       "<div>\n",
       "<style scoped>\n",
       "    .dataframe tbody tr th:only-of-type {\n",
       "        vertical-align: middle;\n",
       "    }\n",
       "\n",
       "    .dataframe tbody tr th {\n",
       "        vertical-align: top;\n",
       "    }\n",
       "\n",
       "    .dataframe thead th {\n",
       "        text-align: right;\n",
       "    }\n",
       "</style>\n",
       "<table border=\"1\" class=\"dataframe\">\n",
       "  <thead>\n",
       "    <tr style=\"text-align: right;\">\n",
       "      <th></th>\n",
       "      <th>Postal Code</th>\n",
       "      <th>Sales</th>\n",
       "      <th>Quantity</th>\n",
       "      <th>Discount</th>\n",
       "      <th>Profit</th>\n",
       "    </tr>\n",
       "  </thead>\n",
       "  <tbody>\n",
       "    <tr>\n",
       "      <th>count</th>\n",
       "      <td>9994.000000</td>\n",
       "      <td>9994.000000</td>\n",
       "      <td>9994.000000</td>\n",
       "      <td>9994.000000</td>\n",
       "      <td>9994.000000</td>\n",
       "    </tr>\n",
       "    <tr>\n",
       "      <th>mean</th>\n",
       "      <td>55190.379428</td>\n",
       "      <td>229.858001</td>\n",
       "      <td>3.789574</td>\n",
       "      <td>0.156203</td>\n",
       "      <td>28.656896</td>\n",
       "    </tr>\n",
       "    <tr>\n",
       "      <th>std</th>\n",
       "      <td>32063.693350</td>\n",
       "      <td>623.245101</td>\n",
       "      <td>2.225110</td>\n",
       "      <td>0.206452</td>\n",
       "      <td>234.260108</td>\n",
       "    </tr>\n",
       "    <tr>\n",
       "      <th>min</th>\n",
       "      <td>1040.000000</td>\n",
       "      <td>0.444000</td>\n",
       "      <td>1.000000</td>\n",
       "      <td>0.000000</td>\n",
       "      <td>-6599.978000</td>\n",
       "    </tr>\n",
       "    <tr>\n",
       "      <th>25%</th>\n",
       "      <td>23223.000000</td>\n",
       "      <td>17.280000</td>\n",
       "      <td>2.000000</td>\n",
       "      <td>0.000000</td>\n",
       "      <td>1.728750</td>\n",
       "    </tr>\n",
       "    <tr>\n",
       "      <th>50%</th>\n",
       "      <td>56430.500000</td>\n",
       "      <td>54.490000</td>\n",
       "      <td>3.000000</td>\n",
       "      <td>0.200000</td>\n",
       "      <td>8.666500</td>\n",
       "    </tr>\n",
       "    <tr>\n",
       "      <th>75%</th>\n",
       "      <td>90008.000000</td>\n",
       "      <td>209.940000</td>\n",
       "      <td>5.000000</td>\n",
       "      <td>0.200000</td>\n",
       "      <td>29.364000</td>\n",
       "    </tr>\n",
       "    <tr>\n",
       "      <th>max</th>\n",
       "      <td>99301.000000</td>\n",
       "      <td>22638.480000</td>\n",
       "      <td>14.000000</td>\n",
       "      <td>0.800000</td>\n",
       "      <td>8399.976000</td>\n",
       "    </tr>\n",
       "  </tbody>\n",
       "</table>\n",
       "</div>"
      ],
      "text/plain": [
       "        Postal Code         Sales     Quantity     Discount       Profit\n",
       "count   9994.000000   9994.000000  9994.000000  9994.000000  9994.000000\n",
       "mean   55190.379428    229.858001     3.789574     0.156203    28.656896\n",
       "std    32063.693350    623.245101     2.225110     0.206452   234.260108\n",
       "min     1040.000000      0.444000     1.000000     0.000000 -6599.978000\n",
       "25%    23223.000000     17.280000     2.000000     0.000000     1.728750\n",
       "50%    56430.500000     54.490000     3.000000     0.200000     8.666500\n",
       "75%    90008.000000    209.940000     5.000000     0.200000    29.364000\n",
       "max    99301.000000  22638.480000    14.000000     0.800000  8399.976000"
      ]
     },
     "execution_count": 6,
     "metadata": {},
     "output_type": "execute_result"
    }
   ],
   "source": [
    "store.describe()"
   ]
  },
  {
   "cell_type": "code",
   "execution_count": 7,
   "id": "db75684a",
   "metadata": {},
   "outputs": [
    {
     "data": {
      "text/plain": [
       "Ship Mode          4\n",
       "Segment            3\n",
       "Country            1\n",
       "City             531\n",
       "State             49\n",
       "Postal Code      631\n",
       "Region             4\n",
       "Category           3\n",
       "Sub-Category      17\n",
       "Sales           5825\n",
       "Quantity          14\n",
       "Discount          12\n",
       "Profit          7287\n",
       "dtype: int64"
      ]
     },
     "execution_count": 7,
     "metadata": {},
     "output_type": "execute_result"
    }
   ],
   "source": [
    "store.nunique()"
   ]
  },
  {
   "cell_type": "code",
   "execution_count": 8,
   "id": "e86ca6a0",
   "metadata": {},
   "outputs": [
    {
     "name": "stdout",
     "output_type": "stream",
     "text": [
      "For Ship Mode :  ['Second Class' 'Standard Class' 'First Class' 'Same Day']\n",
      "For Segment :  ['Consumer' 'Corporate' 'Home Office']\n",
      "For Country :  ['United States']\n",
      "For State :  ['Kentucky' 'California' 'Florida' 'North Carolina' 'Washington' 'Texas'\n",
      " 'Wisconsin' 'Utah' 'Nebraska' 'Pennsylvania' 'Illinois' 'Minnesota'\n",
      " 'Michigan' 'Delaware' 'Indiana' 'New York' 'Arizona' 'Virginia'\n",
      " 'Tennessee' 'Alabama' 'South Carolina' 'Oregon' 'Colorado' 'Iowa' 'Ohio'\n",
      " 'Missouri' 'Oklahoma' 'New Mexico' 'Louisiana' 'Connecticut' 'New Jersey'\n",
      " 'Massachusetts' 'Georgia' 'Nevada' 'Rhode Island' 'Mississippi'\n",
      " 'Arkansas' 'Montana' 'New Hampshire' 'Maryland' 'District of Columbia'\n",
      " 'Kansas' 'Vermont' 'Maine' 'South Dakota' 'Idaho' 'North Dakota'\n",
      " 'Wyoming' 'West Virginia']\n",
      "For Region :  ['South' 'West' 'Central' 'East']\n",
      "For Category :  ['Furniture' 'Office Supplies' 'Technology']\n",
      "For Sub-Category :  ['Bookcases' 'Chairs' 'Labels' 'Tables' 'Storage' 'Furnishings' 'Art'\n",
      " 'Phones' 'Binders' 'Appliances' 'Paper' 'Accessories' 'Envelopes'\n",
      " 'Fasteners' 'Supplies' 'Machines' 'Copiers']\n",
      "For Quantity :  [ 2  3  5  7  4  6  9  1  8 14 11 13 10 12]\n",
      "For Discount :  [0.   0.45 0.2  0.8  0.3  0.5  0.7  0.6  0.32 0.1  0.4  0.15]\n"
     ]
    }
   ],
   "source": [
    "print(\"For Ship Mode : \", store['Ship Mode'].unique())\n",
    "print(\"For Segment : \", store['Segment'].unique())\n",
    "print(\"For Country : \", store['Country'].unique())\n",
    "print(\"For State : \", store['State'].unique())\n",
    "print(\"For Region : \", store['Region'].unique())\n",
    "print(\"For Category : \", store['Category'].unique())\n",
    "print(\"For Sub-Category : \", store['Sub-Category'].unique())\n",
    "print(\"For Quantity : \", store['Quantity'].unique())\n",
    "print(\"For Discount : \", store['Discount'].unique())"
   ]
  },
  {
   "cell_type": "code",
   "execution_count": 9,
   "id": "efd979b9",
   "metadata": {},
   "outputs": [
    {
     "data": {
      "text/plain": [
       "Ship Mode       0\n",
       "Segment         0\n",
       "Country         0\n",
       "City            0\n",
       "State           0\n",
       "Postal Code     0\n",
       "Region          0\n",
       "Category        0\n",
       "Sub-Category    0\n",
       "Sales           0\n",
       "Quantity        0\n",
       "Discount        0\n",
       "Profit          0\n",
       "dtype: int64"
      ]
     },
     "execution_count": 9,
     "metadata": {},
     "output_type": "execute_result"
    }
   ],
   "source": [
    "store.isnull().sum()"
   ]
  },
  {
   "cell_type": "code",
   "execution_count": 10,
   "id": "5aad57ff",
   "metadata": {},
   "outputs": [
    {
     "data": {
      "text/plain": [
       "Ship Mode        object\n",
       "Segment          object\n",
       "Country          object\n",
       "City             object\n",
       "State            object\n",
       "Postal Code       int64\n",
       "Region           object\n",
       "Category         object\n",
       "Sub-Category     object\n",
       "Sales           float64\n",
       "Quantity          int64\n",
       "Discount        float64\n",
       "Profit          float64\n",
       "dtype: object"
      ]
     },
     "execution_count": 10,
     "metadata": {},
     "output_type": "execute_result"
    }
   ],
   "source": [
    "store.dtypes"
   ]
  },
  {
   "cell_type": "code",
   "execution_count": 11,
   "id": "01b6fcd0",
   "metadata": {},
   "outputs": [
    {
     "data": {
      "text/plain": [
       "array(['Ship Mode', 'Segment', 'Country', 'City', 'State', 'Postal Code',\n",
       "       'Region', 'Category', 'Sub-Category', 'Sales', 'Quantity',\n",
       "       'Discount', 'Profit'], dtype=object)"
      ]
     },
     "execution_count": 11,
     "metadata": {},
     "output_type": "execute_result"
    }
   ],
   "source": [
    "store.columns.values"
   ]
  },
  {
   "cell_type": "code",
   "execution_count": 12,
   "id": "b9b2536d",
   "metadata": {},
   "outputs": [],
   "source": [
    "store=store.drop(['Postal Code','Country'],axis=1)"
   ]
  },
  {
   "cell_type": "code",
   "execution_count": 13,
   "id": "cb1a62a8",
   "metadata": {},
   "outputs": [
    {
     "data": {
      "text/html": [
       "<div>\n",
       "<style scoped>\n",
       "    .dataframe tbody tr th:only-of-type {\n",
       "        vertical-align: middle;\n",
       "    }\n",
       "\n",
       "    .dataframe tbody tr th {\n",
       "        vertical-align: top;\n",
       "    }\n",
       "\n",
       "    .dataframe thead th {\n",
       "        text-align: right;\n",
       "    }\n",
       "</style>\n",
       "<table border=\"1\" class=\"dataframe\">\n",
       "  <thead>\n",
       "    <tr style=\"text-align: right;\">\n",
       "      <th></th>\n",
       "      <th>Ship Mode</th>\n",
       "      <th>Segment</th>\n",
       "      <th>City</th>\n",
       "      <th>State</th>\n",
       "      <th>Region</th>\n",
       "      <th>Category</th>\n",
       "      <th>Sub-Category</th>\n",
       "      <th>Sales</th>\n",
       "      <th>Quantity</th>\n",
       "      <th>Discount</th>\n",
       "      <th>Profit</th>\n",
       "    </tr>\n",
       "  </thead>\n",
       "  <tbody>\n",
       "    <tr>\n",
       "      <th>0</th>\n",
       "      <td>Second Class</td>\n",
       "      <td>Consumer</td>\n",
       "      <td>Henderson</td>\n",
       "      <td>Kentucky</td>\n",
       "      <td>South</td>\n",
       "      <td>Furniture</td>\n",
       "      <td>Bookcases</td>\n",
       "      <td>261.9600</td>\n",
       "      <td>2</td>\n",
       "      <td>0.00</td>\n",
       "      <td>41.9136</td>\n",
       "    </tr>\n",
       "    <tr>\n",
       "      <th>1</th>\n",
       "      <td>Second Class</td>\n",
       "      <td>Consumer</td>\n",
       "      <td>Henderson</td>\n",
       "      <td>Kentucky</td>\n",
       "      <td>South</td>\n",
       "      <td>Furniture</td>\n",
       "      <td>Chairs</td>\n",
       "      <td>731.9400</td>\n",
       "      <td>3</td>\n",
       "      <td>0.00</td>\n",
       "      <td>219.5820</td>\n",
       "    </tr>\n",
       "    <tr>\n",
       "      <th>2</th>\n",
       "      <td>Second Class</td>\n",
       "      <td>Corporate</td>\n",
       "      <td>Los Angeles</td>\n",
       "      <td>California</td>\n",
       "      <td>West</td>\n",
       "      <td>Office Supplies</td>\n",
       "      <td>Labels</td>\n",
       "      <td>14.6200</td>\n",
       "      <td>2</td>\n",
       "      <td>0.00</td>\n",
       "      <td>6.8714</td>\n",
       "    </tr>\n",
       "    <tr>\n",
       "      <th>3</th>\n",
       "      <td>Standard Class</td>\n",
       "      <td>Consumer</td>\n",
       "      <td>Fort Lauderdale</td>\n",
       "      <td>Florida</td>\n",
       "      <td>South</td>\n",
       "      <td>Furniture</td>\n",
       "      <td>Tables</td>\n",
       "      <td>957.5775</td>\n",
       "      <td>5</td>\n",
       "      <td>0.45</td>\n",
       "      <td>-383.0310</td>\n",
       "    </tr>\n",
       "    <tr>\n",
       "      <th>4</th>\n",
       "      <td>Standard Class</td>\n",
       "      <td>Consumer</td>\n",
       "      <td>Fort Lauderdale</td>\n",
       "      <td>Florida</td>\n",
       "      <td>South</td>\n",
       "      <td>Office Supplies</td>\n",
       "      <td>Storage</td>\n",
       "      <td>22.3680</td>\n",
       "      <td>2</td>\n",
       "      <td>0.20</td>\n",
       "      <td>2.5164</td>\n",
       "    </tr>\n",
       "  </tbody>\n",
       "</table>\n",
       "</div>"
      ],
      "text/plain": [
       "        Ship Mode    Segment             City       State Region  \\\n",
       "0    Second Class   Consumer        Henderson    Kentucky  South   \n",
       "1    Second Class   Consumer        Henderson    Kentucky  South   \n",
       "2    Second Class  Corporate      Los Angeles  California   West   \n",
       "3  Standard Class   Consumer  Fort Lauderdale     Florida  South   \n",
       "4  Standard Class   Consumer  Fort Lauderdale     Florida  South   \n",
       "\n",
       "          Category Sub-Category     Sales  Quantity  Discount    Profit  \n",
       "0        Furniture    Bookcases  261.9600         2      0.00   41.9136  \n",
       "1        Furniture       Chairs  731.9400         3      0.00  219.5820  \n",
       "2  Office Supplies       Labels   14.6200         2      0.00    6.8714  \n",
       "3        Furniture       Tables  957.5775         5      0.45 -383.0310  \n",
       "4  Office Supplies      Storage   22.3680         2      0.20    2.5164  "
      ]
     },
     "execution_count": 13,
     "metadata": {},
     "output_type": "execute_result"
    }
   ],
   "source": [
    "store.head()"
   ]
  },
  {
   "cell_type": "markdown",
   "id": "dd60c548",
   "metadata": {},
   "source": [
    "# Understanding Correlation"
   ]
  },
  {
   "cell_type": "code",
   "execution_count": 14,
   "id": "c2c09757",
   "metadata": {},
   "outputs": [
    {
     "name": "stdout",
     "output_type": "stream",
     "text": [
      "             Sales  Quantity  Discount    Profit\n",
      "Sales     1.000000  0.200795 -0.028190  0.479064\n",
      "Quantity  0.200795  1.000000  0.008623  0.066253\n",
      "Discount -0.028190  0.008623  1.000000 -0.219487\n",
      "Profit    0.479064  0.066253 -0.219487  1.000000\n"
     ]
    }
   ],
   "source": [
    "print(store.corr())"
   ]
  },
  {
   "cell_type": "code",
   "execution_count": 15,
   "id": "83697b24",
   "metadata": {},
   "outputs": [
    {
     "data": {
      "text/plain": [
       "<AxesSubplot:>"
      ]
     },
     "execution_count": 15,
     "metadata": {},
     "output_type": "execute_result"
    },
    {
     "data": {
      "image/png": "[encoded data removed]",
      "text/plain": [
       "<Figure size 432x288 with 2 Axes>"
      ]
     },
     "metadata": {
      "needs_background": "light"
     },
     "output_type": "display_data"
    }
   ],
   "source": [
    "correlation=store.corr()\n",
    "sns.heatmap(correlation,annot=True)"
   ]
  },
  {
   "cell_type": "markdown",
   "id": "b038ec73",
   "metadata": {},
   "source": [
    "\n",
    "\n",
    "Heatmap elaborates:\n",
    "\n",
    "    Sales and Profit are positively related (0.48)\n",
    "    Discount and Profit are negatively related (-0.028)\n",
    "\n"
   ]
  },
  {
   "cell_type": "code",
   "execution_count": 16,
   "id": "41cc5f84",
   "metadata": {},
   "outputs": [
    {
     "name": "stdout",
     "output_type": "stream",
     "text": [
      "229.8580008304938\n",
      "54.489999999999995\n",
      "0.15620272163298934\n",
      "0.2\n",
      "3.789573744246548\n",
      "3.0\n",
      "28.656896307784802\n",
      "8.6665\n"
     ]
    }
   ],
   "source": [
    "print(store['Sales'].mean())\n",
    "print(store['Sales'].median())\n",
    "print(store['Discount'].mean())\n",
    "print(store['Discount'].median())\n",
    "print(store['Quantity'].mean())\n",
    "print(store['Quantity'].median())\n",
    "print(store['Profit'].mean())\n",
    "print(store['Profit'].median())"
   ]
  },
  {
   "cell_type": "code",
   "execution_count": 17,
   "id": "4fd8a3f3",
   "metadata": {},
   "outputs": [
    {
     "data": {
      "image/png": "[encoded data removed]",
      "text/plain": [
       "<Figure size 432x288 with 1 Axes>"
      ]
     },
     "metadata": {
      "needs_background": "light"
     },
     "output_type": "display_data"
    },
    {
     "data": {
      "image/png": "[encoded data removed]",
      "text/plain": [
       "<Figure size 432x288 with 1 Axes>"
      ]
     },
     "metadata": {
      "needs_background": "light"
     },
     "output_type": "display_data"
    },
    {
     "data": {
      "image/png": "[encoded data removed]",
      "text/plain": [
       "<Figure size 432x288 with 1 Axes>"
      ]
     },
     "metadata": {
      "needs_background": "light"
     },
     "output_type": "display_data"
    },
    {
     "data": {
      "image/png": "[encoded data removed]",
      "text/plain": [
       "<Figure size 432x288 with 1 Axes>"
      ]
     },
     "metadata": {
      "needs_background": "light"
     },
     "output_type": "display_data"
    }
   ],
   "source": [
    "store.boxplot(column=['Sales'])\n",
    "plt.show()\n",
    "store.boxplot(column=['Quantity'])\n",
    "plt.show()\n",
    "store.boxplot(column=['Discount'])\n",
    "plt.show()\n",
    "store.boxplot(column=['Profit'])\n",
    "plt.show()"
   ]
  },
  {
   "cell_type": "markdown",
   "id": "b8dbb1ee",
   "metadata": {},
   "source": [
    "# Dealing With Outliers"
   ]
  },
  {
   "cell_type": "code",
   "execution_count": 18,
   "id": "5f084999",
   "metadata": {},
   "outputs": [
    {
     "name": "stdout",
     "output_type": "stream",
     "text": [
      "3     2409\n",
      "2     2402\n",
      "5     1230\n",
      "4     1191\n",
      "1      899\n",
      "7      606\n",
      "6      572\n",
      "9      258\n",
      "8      257\n",
      "10      57\n",
      "11      34\n",
      "14      29\n",
      "13      27\n",
      "12      23\n",
      "Name: Quantity, dtype: int64\n"
     ]
    }
   ],
   "source": [
    "print(store['Quantity'].value_counts())\n"
   ]
  },
  {
   "cell_type": "code",
   "execution_count": 19,
   "id": "47c59d11",
   "metadata": {},
   "outputs": [
    {
     "name": "stdout",
     "output_type": "stream",
     "text": [
      "-2.5 9.5 5.0 2.0 3.0\n",
      "The following are the outliers in the Quantity:{} [14, 14, 11, 13, 10, 10, 13, 12, 10, 13, 14, 10, 10, 14, 10, 11, 10, 12, 12, 13, 14, 12, 12, 12, 13, 13, 10, 11, 14, 14, 14, 13, 14, 11, 10, 13, 10, 13, 12, 10, 10, 13, 13, 13, 10, 11, 11, 10, 14, 11, 14, 11, 10, 13, 11, 13, 11, 10, 14, 10, 12, 12, 10, 10, 10, 14, 10, 11, 11, 10, 11, 12, 11, 13, 10, 12, 11, 10, 12, 10, 11, 11, 10, 14, 12, 13, 10, 10, 12, 11, 14, 14, 10, 10, 12, 10, 11, 14, 10, 12, 10, 11, 10, 14, 14, 10, 10, 14, 11, 11, 11, 12, 10, 11, 12, 10, 13, 11, 14, 10, 10, 11, 12, 10, 10, 12, 12, 10, 14, 10, 11, 10, 10, 10, 10, 10, 11, 10, 11, 12, 14, 13, 11, 10, 10, 12, 11, 14, 13, 13, 11, 13, 10, 13, 13, 14, 10, 10, 14, 14, 13, 11, 13, 13, 10, 13, 11, 14, 14, 10]\n",
      "Series([], Name: Quantity, dtype: int64)\n",
      "113     14\n",
      "139     14\n",
      "147     11\n",
      "251     13\n",
      "329     10\n",
      "        ..\n",
      "9882    13\n",
      "9895    11\n",
      "9941    14\n",
      "9979    14\n",
      "9984    10\n",
      "Name: Quantity, Length: 170, dtype: int64\n"
     ]
    }
   ],
   "source": [
    "\n",
    "for i in ['Quantity']:\n",
    "    q3, q1 = np.percentile(store.loc[: , 'Quantity'],[75,25])\n",
    "    iqr = q3 - q1\n",
    "    max = q3 + (1.5 * iqr)\n",
    "    min = q1 - (1.5 * iqr)\n",
    "    print(min,max,q3,q1,iqr)\n",
    "    outliers = [i for i in store['Quantity'] if i < min or i > max]\n",
    "    print('The following are the outliers in the Quantity:{}' ,outliers)\n",
    "    print(store.loc[store[i] < min, i])\n",
    "    print(store.loc[store[i] > max, i])\n",
    "    store.loc[store[i] < min, i] = np.nan\n",
    "    store.loc[store[i] > max, i] = np.nan\n"
   ]
  },
  {
   "cell_type": "code",
   "execution_count": 20,
   "id": "5c1a6256",
   "metadata": {},
   "outputs": [
    {
     "name": "stdout",
     "output_type": "stream",
     "text": [
      "The following are the outliers in the Quantity:{} 0\n",
      "-2.5 9.5 5.0 2.0 3.0\n",
      "Series([], Name: Quantity, dtype: float64)\n",
      "Series([], Name: Quantity, dtype: float64)\n"
     ]
    }
   ],
   "source": [
    "outliers = [i for i in store['Quantity'] if i < min or i > max]\n",
    "print('The following are the outliers in the Quantity:{}' ,len(outliers))\n",
    "print(min,max,q3,q1,iqr)\n",
    "print(store.loc[store[i] < min, i])\n",
    "print(store.loc[store[i] > max, i])"
   ]
  },
  {
   "cell_type": "code",
   "execution_count": 21,
   "id": "e040beb0",
   "metadata": {},
   "outputs": [
    {
     "name": "stdout",
     "output_type": "stream",
     "text": [
      "-271.71000000000004 498.93 209.94 17.28 192.66\n",
      "The following are the outliers in the Sales:{} 1167\n",
      "Series([], Name: Sales, dtype: float64)\n",
      "1        731.9400\n",
      "3        957.5775\n",
      "7        907.1520\n",
      "10      1706.1840\n",
      "11       911.4240\n",
      "          ...    \n",
      "9931     683.3320\n",
      "9942     998.8200\n",
      "9947    1925.8800\n",
      "9948    2405.2000\n",
      "9968     735.9800\n",
      "Name: Sales, Length: 1167, dtype: float64\n"
     ]
    }
   ],
   "source": [
    "for i in ['Sales']:\n",
    "    q3, q1 = np.percentile(store.loc[: , 'Sales'],[75,25])\n",
    "    iqr = q3 - q1\n",
    "    max = q3 + (1.5 * iqr)\n",
    "    min = q1 - (1.5 * iqr)\n",
    "    print(min,max,q3,q1,iqr)\n",
    "    outliers = [i for i in store['Sales'] if i < min or i > max]\n",
    "    print('The following are the outliers in the Sales:{}' ,len(outliers))\n",
    "    print(store.loc[store[i] < min, i])\n",
    "    print(store.loc[store[i] > max, i])\n",
    "    store.loc[store[i] < min, i] = np.nan\n",
    "    store.loc[store[i] > max, i] = np.nan"
   ]
  },
  {
   "cell_type": "code",
   "execution_count": 22,
   "id": "2098c5bf",
   "metadata": {},
   "outputs": [
    {
     "name": "stdout",
     "output_type": "stream",
     "text": [
      "The following are the outliers in the Sales:{} 0\n",
      "-271.71000000000004 498.93 209.94 17.28 192.66\n",
      "Series([], Name: Sales, dtype: float64)\n",
      "Series([], Name: Sales, dtype: float64)\n"
     ]
    }
   ],
   "source": [
    "outliers = [i for i in store['Sales'] if i < min or i > max]\n",
    "print('The following are the outliers in the Sales:{}' ,len(outliers))\n",
    "print(min,max,q3,q1,iqr)\n",
    "print(store.loc[store[i] < min, i])\n",
    "print(store.loc[store[i] > max, i])"
   ]
  },
  {
   "cell_type": "code",
   "execution_count": 23,
   "id": "0a3bde12",
   "metadata": {},
   "outputs": [
    {
     "name": "stdout",
     "output_type": "stream",
     "text": [
      "-0.30000000000000004 0.5 0.2 0.0 0.2\n",
      "The following are the outliers in the Discount:{} 856\n",
      "Series([], Name: Discount, dtype: float64)\n",
      "14      0.8\n",
      "15      0.8\n",
      "28      0.7\n",
      "32      0.7\n",
      "36      0.6\n",
      "       ... \n",
      "9870    0.7\n",
      "9877    0.7\n",
      "9903    0.6\n",
      "9920    0.8\n",
      "9921    0.7\n",
      "Name: Discount, Length: 856, dtype: float64\n"
     ]
    }
   ],
   "source": [
    "for i in ['Discount']:\n",
    "    q3, q1 = np.percentile(store.loc[: , 'Discount'],[75,25])\n",
    "    iqr = q3 - q1\n",
    "    max = q3 + (1.5 * iqr)\n",
    "    min = q1 - (1.5 * iqr)\n",
    "    print(min,max,q3,q1,iqr)\n",
    "    outliers = [i for i in store['Discount'] if i < min or i > max]\n",
    "    print('The following are the outliers in the Discount:{}' ,len(outliers))\n",
    "    print(store.loc[store[i] < min, i])\n",
    "    print(store.loc[store[i] > max, i])\n",
    "    store.loc[store[i] < min, i] = np.nan\n",
    "    store.loc[store[i] > max, i] = np.nan"
   ]
  },
  {
   "cell_type": "code",
   "execution_count": 24,
   "id": "24dcb7cc",
   "metadata": {},
   "outputs": [
    {
     "name": "stdout",
     "output_type": "stream",
     "text": [
      "The following are the outliers in the Discount:{} 0\n",
      "-0.30000000000000004 0.5 0.2 0.0 0.2\n",
      "Series([], Name: Discount, dtype: float64)\n",
      "Series([], Name: Discount, dtype: float64)\n"
     ]
    }
   ],
   "source": [
    "outliers = [i for i in store['Discount'] if i < min or i > max]\n",
    "print('The following are the outliers in the Discount:{}' ,len(outliers))\n",
    "print(min,max,q3,q1,iqr)\n",
    "print(store.loc[store[i] < min, i])\n",
    "print(store.loc[store[i] > max, i])"
   ]
  },
  {
   "cell_type": "code",
   "execution_count": 25,
   "id": "16eab666",
   "metadata": {},
   "outputs": [
    {
     "name": "stdout",
     "output_type": "stream",
     "text": [
      "-39.724125 70.816875 29.364 1.72875 27.63525\n",
      "The following are the outliers in the Profit:{} 1881\n",
      "3       -383.0310\n",
      "14      -123.8580\n",
      "27     -1665.0522\n",
      "36      -147.9630\n",
      "38       -46.9764\n",
      "          ...    \n",
      "9899    -143.2548\n",
      "9912     -54.3204\n",
      "9919    -143.4310\n",
      "9931     -40.1960\n",
      "9962     -67.6704\n",
      "Name: Profit, Length: 604, dtype: float64\n",
      "1       219.5820\n",
      "7        90.7152\n",
      "10       85.3092\n",
      "13      132.5922\n",
      "24      240.2649\n",
      "          ...   \n",
      "9948    793.7160\n",
      "9957    109.7208\n",
      "9968    331.1910\n",
      "9979    153.1152\n",
      "9993     72.9480\n",
      "Name: Profit, Length: 1277, dtype: float64\n"
     ]
    }
   ],
   "source": [
    "for i in ['Profit']:\n",
    "    q3, q1 = np.percentile(store.loc[: , 'Profit'],[75,25])\n",
    "    iqr = q3 - q1\n",
    "    max = q3 + (1.5 * iqr)\n",
    "    min = q1 - (1.5 * iqr)\n",
    "    print(min,max,q3,q1,iqr)\n",
    "    outliers = [i for i in store['Profit'] if i < min or i > max]\n",
    "    print('The following are the outliers in the Profit:{}' ,len(outliers))\n",
    "    print(store.loc[store[i] < min, i])\n",
    "    print(store.loc[store[i] > max, i])\n",
    "    store.loc[store[i] < min, i] = np.nan\n",
    "    store.loc[store[i] > max, i] = np.nan"
   ]
  },
  {
   "cell_type": "code",
   "execution_count": 26,
   "id": "955f96b1",
   "metadata": {},
   "outputs": [
    {
     "name": "stdout",
     "output_type": "stream",
     "text": [
      "The following are the outliers in the Profit:{} 0\n",
      "-39.724125 70.816875 29.364 1.72875 27.63525\n",
      "Series([], Name: Profit, dtype: float64)\n",
      "Series([], Name: Profit, dtype: float64)\n"
     ]
    }
   ],
   "source": [
    "outliers = [i for i in store['Profit'] if i < min or i > max]\n",
    "print('The following are the outliers in the Profit:{}' ,len(outliers))\n",
    "print(min,max,q3,q1,iqr)\n",
    "print(store.loc[store[i] < min, i])\n",
    "print(store.loc[store[i] > max, i])"
   ]
  },
  {
   "cell_type": "code",
   "execution_count": 27,
   "id": "4eda7c93",
   "metadata": {},
   "outputs": [
    {
     "name": "stdout",
     "output_type": "stream",
     "text": [
      "92.86485276991027\n",
      "40.88\n",
      "0.10348982271832503\n",
      "0.0\n",
      "3.653908794788274\n",
      "3.0\n",
      "11.604085985455441\n",
      "7.2576\n"
     ]
    }
   ],
   "source": [
    "print(store['Sales'].mean())\n",
    "print(store['Sales'].median())\n",
    "print(store['Discount'].mean())\n",
    "print(store['Discount'].median())\n",
    "print(store['Quantity'].mean())\n",
    "print(store['Quantity'].median())\n",
    "print(store['Profit'].mean())\n",
    "print(store['Profit'].median())"
   ]
  },
  {
   "cell_type": "code",
   "execution_count": 28,
   "id": "9801da3a",
   "metadata": {},
   "outputs": [
    {
     "data": {
      "image/png": "[encoded data removed]",
      "text/plain": [
       "<Figure size 432x288 with 1 Axes>"
      ]
     },
     "metadata": {
      "needs_background": "light"
     },
     "output_type": "display_data"
    },
    {
     "data": {
      "image/png": "[encoded data removed]",
      "text/plain": [
       "<Figure size 432x288 with 1 Axes>"
      ]
     },
     "metadata": {
      "needs_background": "light"
     },
     "output_type": "display_data"
    },
    {
     "data": {
      "image/png": "[encoded data removed]",
      "text/plain": [
       "<Figure size 432x288 with 1 Axes>"
      ]
     },
     "metadata": {
      "needs_background": "light"
     },
     "output_type": "display_data"
    },
    {
     "data": {
      "image/png": "[encoded data removed]",
      "text/plain": [
       "<Figure size 432x288 with 1 Axes>"
      ]
     },
     "metadata": {
      "needs_background": "light"
     },
     "output_type": "display_data"
    }
   ],
   "source": [
    "store['Sales'].fillna(store['Sales'].mean(), inplace = True)\n",
    "store.boxplot(column=['Sales'])\n",
    "plt.show()\n",
    "store['Discount'].fillna(store['Discount'].mean(), inplace = True)\n",
    "store.boxplot(column=['Discount'])\n",
    "plt.show()\n",
    "store['Quantity'].fillna(store['Quantity'].mean(), inplace = True)\n",
    "store.boxplot(column=['Quantity'])\n",
    "plt.show()\n",
    "store['Profit'].fillna(store['Profit'].mean(), inplace = True)\n",
    "store.boxplot(column=['Profit'])\n",
    "plt.show()"
   ]
  },
  {
   "cell_type": "code",
   "execution_count": 29,
   "id": "9ce2595d",
   "metadata": {},
   "outputs": [
    {
     "data": {
      "text/plain": [
       "Ship Mode       0\n",
       "Segment         0\n",
       "City            0\n",
       "State           0\n",
       "Region          0\n",
       "Category        0\n",
       "Sub-Category    0\n",
       "Sales           0\n",
       "Quantity        0\n",
       "Discount        0\n",
       "Profit          0\n",
       "dtype: int64"
      ]
     },
     "execution_count": 29,
     "metadata": {},
     "output_type": "execute_result"
    }
   ],
   "source": [
    "store.isnull().sum()"
   ]
  },
  {
   "cell_type": "markdown",
   "id": "f262f092",
   "metadata": {},
   "source": [
    "# Dealing with Duplicates"
   ]
  },
  {
   "cell_type": "code",
   "execution_count": 30,
   "id": "098c5cc5",
   "metadata": {},
   "outputs": [
    {
     "name": "stdout",
     "output_type": "stream",
     "text": [
      "73\n"
     ]
    },
    {
     "data": {
      "text/html": [
       "<div>\n",
       "<style scoped>\n",
       "    .dataframe tbody tr th:only-of-type {\n",
       "        vertical-align: middle;\n",
       "    }\n",
       "\n",
       "    .dataframe tbody tr th {\n",
       "        vertical-align: top;\n",
       "    }\n",
       "\n",
       "    .dataframe thead th {\n",
       "        text-align: right;\n",
       "    }\n",
       "</style>\n",
       "<table border=\"1\" class=\"dataframe\">\n",
       "  <thead>\n",
       "    <tr style=\"text-align: right;\">\n",
       "      <th></th>\n",
       "      <th>Ship Mode</th>\n",
       "      <th>Segment</th>\n",
       "      <th>City</th>\n",
       "      <th>State</th>\n",
       "      <th>Region</th>\n",
       "      <th>Category</th>\n",
       "      <th>Sub-Category</th>\n",
       "      <th>Sales</th>\n",
       "      <th>Quantity</th>\n",
       "      <th>Discount</th>\n",
       "      <th>Profit</th>\n",
       "    </tr>\n",
       "  </thead>\n",
       "  <tbody>\n",
       "    <tr>\n",
       "      <th>950</th>\n",
       "      <td>Standard Class</td>\n",
       "      <td>Home Office</td>\n",
       "      <td>Philadelphia</td>\n",
       "      <td>Pennsylvania</td>\n",
       "      <td>East</td>\n",
       "      <td>Office Supplies</td>\n",
       "      <td>Paper</td>\n",
       "      <td>15.552000</td>\n",
       "      <td>3.0</td>\n",
       "      <td>0.20000</td>\n",
       "      <td>5.443200</td>\n",
       "    </tr>\n",
       "    <tr>\n",
       "      <th>1019</th>\n",
       "      <td>Standard Class</td>\n",
       "      <td>Corporate</td>\n",
       "      <td>New York City</td>\n",
       "      <td>New York</td>\n",
       "      <td>East</td>\n",
       "      <td>Office Supplies</td>\n",
       "      <td>Storage</td>\n",
       "      <td>92.864853</td>\n",
       "      <td>5.0</td>\n",
       "      <td>0.00000</td>\n",
       "      <td>11.604086</td>\n",
       "    </tr>\n",
       "    <tr>\n",
       "      <th>1878</th>\n",
       "      <td>Standard Class</td>\n",
       "      <td>Consumer</td>\n",
       "      <td>Los Angeles</td>\n",
       "      <td>California</td>\n",
       "      <td>West</td>\n",
       "      <td>Technology</td>\n",
       "      <td>Phones</td>\n",
       "      <td>302.376000</td>\n",
       "      <td>3.0</td>\n",
       "      <td>0.20000</td>\n",
       "      <td>22.678200</td>\n",
       "    </tr>\n",
       "    <tr>\n",
       "      <th>2979</th>\n",
       "      <td>Standard Class</td>\n",
       "      <td>Consumer</td>\n",
       "      <td>Philadelphia</td>\n",
       "      <td>Pennsylvania</td>\n",
       "      <td>East</td>\n",
       "      <td>Office Supplies</td>\n",
       "      <td>Paper</td>\n",
       "      <td>20.736000</td>\n",
       "      <td>4.0</td>\n",
       "      <td>0.20000</td>\n",
       "      <td>7.257600</td>\n",
       "    </tr>\n",
       "    <tr>\n",
       "      <th>3033</th>\n",
       "      <td>Standard Class</td>\n",
       "      <td>Home Office</td>\n",
       "      <td>Philadelphia</td>\n",
       "      <td>Pennsylvania</td>\n",
       "      <td>East</td>\n",
       "      <td>Office Supplies</td>\n",
       "      <td>Paper</td>\n",
       "      <td>20.736000</td>\n",
       "      <td>4.0</td>\n",
       "      <td>0.20000</td>\n",
       "      <td>7.257600</td>\n",
       "    </tr>\n",
       "    <tr>\n",
       "      <th>...</th>\n",
       "      <td>...</td>\n",
       "      <td>...</td>\n",
       "      <td>...</td>\n",
       "      <td>...</td>\n",
       "      <td>...</td>\n",
       "      <td>...</td>\n",
       "      <td>...</td>\n",
       "      <td>...</td>\n",
       "      <td>...</td>\n",
       "      <td>...</td>\n",
       "      <td>...</td>\n",
       "    </tr>\n",
       "    <tr>\n",
       "      <th>9477</th>\n",
       "      <td>Second Class</td>\n",
       "      <td>Corporate</td>\n",
       "      <td>Chicago</td>\n",
       "      <td>Illinois</td>\n",
       "      <td>Central</td>\n",
       "      <td>Office Supplies</td>\n",
       "      <td>Binders</td>\n",
       "      <td>3.564000</td>\n",
       "      <td>3.0</td>\n",
       "      <td>0.10349</td>\n",
       "      <td>-6.237000</td>\n",
       "    </tr>\n",
       "    <tr>\n",
       "      <th>9658</th>\n",
       "      <td>Standard Class</td>\n",
       "      <td>Consumer</td>\n",
       "      <td>New York City</td>\n",
       "      <td>New York</td>\n",
       "      <td>East</td>\n",
       "      <td>Furniture</td>\n",
       "      <td>Chairs</td>\n",
       "      <td>92.864853</td>\n",
       "      <td>4.0</td>\n",
       "      <td>0.10000</td>\n",
       "      <td>11.604086</td>\n",
       "    </tr>\n",
       "    <tr>\n",
       "      <th>9673</th>\n",
       "      <td>Standard Class</td>\n",
       "      <td>Home Office</td>\n",
       "      <td>Philadelphia</td>\n",
       "      <td>Pennsylvania</td>\n",
       "      <td>East</td>\n",
       "      <td>Technology</td>\n",
       "      <td>Phones</td>\n",
       "      <td>92.864853</td>\n",
       "      <td>5.0</td>\n",
       "      <td>0.40000</td>\n",
       "      <td>11.604086</td>\n",
       "    </tr>\n",
       "    <tr>\n",
       "      <th>9748</th>\n",
       "      <td>Standard Class</td>\n",
       "      <td>Consumer</td>\n",
       "      <td>Chicago</td>\n",
       "      <td>Illinois</td>\n",
       "      <td>Central</td>\n",
       "      <td>Furniture</td>\n",
       "      <td>Chairs</td>\n",
       "      <td>92.864853</td>\n",
       "      <td>4.0</td>\n",
       "      <td>0.30000</td>\n",
       "      <td>11.604086</td>\n",
       "    </tr>\n",
       "    <tr>\n",
       "      <th>9986</th>\n",
       "      <td>Standard Class</td>\n",
       "      <td>Consumer</td>\n",
       "      <td>Los Angeles</td>\n",
       "      <td>California</td>\n",
       "      <td>West</td>\n",
       "      <td>Technology</td>\n",
       "      <td>Accessories</td>\n",
       "      <td>36.240000</td>\n",
       "      <td>1.0</td>\n",
       "      <td>0.00000</td>\n",
       "      <td>15.220800</td>\n",
       "    </tr>\n",
       "  </tbody>\n",
       "</table>\n",
       "<p>73 rows × 11 columns</p>\n",
       "</div>"
      ],
      "text/plain": [
       "           Ship Mode      Segment           City         State   Region  \\\n",
       "950   Standard Class  Home Office   Philadelphia  Pennsylvania     East   \n",
       "1019  Standard Class    Corporate  New York City      New York     East   \n",
       "1878  Standard Class     Consumer    Los Angeles    California     West   \n",
       "2979  Standard Class     Consumer   Philadelphia  Pennsylvania     East   \n",
       "3033  Standard Class  Home Office   Philadelphia  Pennsylvania     East   \n",
       "...              ...          ...            ...           ...      ...   \n",
       "9477    Second Class    Corporate        Chicago      Illinois  Central   \n",
       "9658  Standard Class     Consumer  New York City      New York     East   \n",
       "9673  Standard Class  Home Office   Philadelphia  Pennsylvania     East   \n",
       "9748  Standard Class     Consumer        Chicago      Illinois  Central   \n",
       "9986  Standard Class     Consumer    Los Angeles    California     West   \n",
       "\n",
       "             Category Sub-Category       Sales  Quantity  Discount     Profit  \n",
       "950   Office Supplies        Paper   15.552000       3.0   0.20000   5.443200  \n",
       "1019  Office Supplies      Storage   92.864853       5.0   0.00000  11.604086  \n",
       "1878       Technology       Phones  302.376000       3.0   0.20000  22.678200  \n",
       "2979  Office Supplies        Paper   20.736000       4.0   0.20000   7.257600  \n",
       "3033  Office Supplies        Paper   20.736000       4.0   0.20000   7.257600  \n",
       "...               ...          ...         ...       ...       ...        ...  \n",
       "9477  Office Supplies      Binders    3.564000       3.0   0.10349  -6.237000  \n",
       "9658        Furniture       Chairs   92.864853       4.0   0.10000  11.604086  \n",
       "9673       Technology       Phones   92.864853       5.0   0.40000  11.604086  \n",
       "9748        Furniture       Chairs   92.864853       4.0   0.30000  11.604086  \n",
       "9986       Technology  Accessories   36.240000       1.0   0.00000  15.220800  \n",
       "\n",
       "[73 rows x 11 columns]"
      ]
     },
     "execution_count": 30,
     "metadata": {},
     "output_type": "execute_result"
    }
   ],
   "source": [
    "duplicate=store.duplicated()\n",
    "print(duplicate.sum())\n",
    "store[duplicate]"
   ]
  },
  {
   "cell_type": "code",
   "execution_count": 31,
   "id": "d5748d7a",
   "metadata": {},
   "outputs": [
    {
     "name": "stdout",
     "output_type": "stream",
     "text": [
      "0\n"
     ]
    },
    {
     "data": {
      "text/html": [
       "<div>\n",
       "<style scoped>\n",
       "    .dataframe tbody tr th:only-of-type {\n",
       "        vertical-align: middle;\n",
       "    }\n",
       "\n",
       "    .dataframe tbody tr th {\n",
       "        vertical-align: top;\n",
       "    }\n",
       "\n",
       "    .dataframe thead th {\n",
       "        text-align: right;\n",
       "    }\n",
       "</style>\n",
       "<table border=\"1\" class=\"dataframe\">\n",
       "  <thead>\n",
       "    <tr style=\"text-align: right;\">\n",
       "      <th></th>\n",
       "      <th>Ship Mode</th>\n",
       "      <th>Segment</th>\n",
       "      <th>City</th>\n",
       "      <th>State</th>\n",
       "      <th>Region</th>\n",
       "      <th>Category</th>\n",
       "      <th>Sub-Category</th>\n",
       "      <th>Sales</th>\n",
       "      <th>Quantity</th>\n",
       "      <th>Discount</th>\n",
       "      <th>Profit</th>\n",
       "    </tr>\n",
       "  </thead>\n",
       "  <tbody>\n",
       "  </tbody>\n",
       "</table>\n",
       "</div>"
      ],
      "text/plain": [
       "Empty DataFrame\n",
       "Columns: [Ship Mode, Segment, City, State, Region, Category, Sub-Category, Sales, Quantity, Discount, Profit]\n",
       "Index: []"
      ]
     },
     "execution_count": 31,
     "metadata": {},
     "output_type": "execute_result"
    }
   ],
   "source": [
    "store.drop_duplicates(inplace=True)\n",
    "duplicates=store.duplicated()\n",
    "print(duplicates.sum())\n",
    "store[duplicates]"
   ]
  },
  {
   "cell_type": "markdown",
   "id": "99e46f6a",
   "metadata": {},
   "source": [
    "#  Analysis"
   ]
  },
  {
   "cell_type": "code",
   "execution_count": 32,
   "id": "a030b2aa",
   "metadata": {},
   "outputs": [
    {
     "data": {
      "text/plain": [
       "Text(0.5, 1.0, 'Distribution of sales category wise')"
      ]
     },
     "execution_count": 32,
     "metadata": {},
     "output_type": "execute_result"
    },
    {
     "data": {
      "image/png": "[encoded data removed]",
      "text/plain": [
       "<Figure size 720x360 with 1 Axes>"
      ]
     },
     "metadata": {},
     "output_type": "display_data"
    }
   ],
   "source": [
    "# create the pie chart\n",
    "ax = store['Category'].value_counts().plot(kind='pie',figsize=(10,5),autopct='%.1f%%')\n",
    "# set the title\n",
    "ax.set_title(\"Distribution of sales category wise\")"
   ]
  },
  {
   "cell_type": "code",
   "execution_count": 33,
   "id": "77dec7e9",
   "metadata": {},
   "outputs": [
    {
     "data": {
      "text/plain": [
       "<AxesSubplot:xlabel='Sub-Category', ylabel='count'>"
      ]
     },
     "execution_count": 33,
     "metadata": {},
     "output_type": "execute_result"
    },
    {
     "data": {
      "image/png": "[encoded data removed]",
      "text/plain": [
       "<Figure size 1080x360 with 1 Axes>"
      ]
     },
     "metadata": {
      "needs_background": "light"
     },
     "output_type": "display_data"
    }
   ],
   "source": [
    "plt.figure(figsize=(15,5))\n",
    "sns.countplot(data=store, x='Sub-Category')"
   ]
  },
  {
   "cell_type": "code",
   "execution_count": 34,
   "id": "0ab512e7",
   "metadata": {},
   "outputs": [
    {
     "data": {
      "text/plain": [
       "<AxesSubplot:xlabel='Region', ylabel='count'>"
      ]
     },
     "execution_count": 34,
     "metadata": {},
     "output_type": "execute_result"
    },
    {
     "data": {
      "image/png": "[encoded data removed]",
      "text/plain": [
       "<Figure size 360x216 with 1 Axes>"
      ]
     },
     "metadata": {
      "needs_background": "light"
     },
     "output_type": "display_data"
    }
   ],
   "source": [
    "plt.figure(figsize=(5,3))\n",
    "sns.countplot(data=store, x='Region')"
   ]
  },
  {
   "cell_type": "code",
   "execution_count": 35,
   "id": "59f9cf69",
   "metadata": {},
   "outputs": [
    {
     "data": {
      "text/plain": [
       "Text(0.5, 1.0, 'Distribution of sales category wise')"
      ]
     },
     "execution_count": 35,
     "metadata": {},
     "output_type": "execute_result"
    },
    {
     "data": {
      "image/png": "[encoded data removed]",
      "text/plain": [
       "<Figure size 720x360 with 1 Axes>"
      ]
     },
     "metadata": {},
     "output_type": "display_data"
    }
   ],
   "source": [
    "# create the pie chart\n",
    "ax = store['Ship Mode'].value_counts().plot(kind='pie',figsize=(10,5),autopct='%.1f%%')\n",
    "# set the title\n",
    "ax.set_title(\"Distribution of sales category wise\")"
   ]
  },
  {
   "cell_type": "code",
   "execution_count": 36,
   "id": "02b65f8b",
   "metadata": {},
   "outputs": [
    {
     "data": {
      "text/plain": [
       "Text(0.5, 1.0, 'Distribution of sales category wise')"
      ]
     },
     "execution_count": 36,
     "metadata": {},
     "output_type": "execute_result"
    },
    {
     "data": {
      "image/png": "[encoded data removed]",
      "text/plain": [
       "<Figure size 720x360 with 1 Axes>"
      ]
     },
     "metadata": {},
     "output_type": "display_data"
    }
   ],
   "source": [
    "# create the pie chart\n",
    "ax = store['Segment'].value_counts().plot(kind='pie',figsize=(10,5),autopct='%.1f%%')\n",
    "# set the title\n",
    "ax.set_title(\"Distribution of sales category wise\")"
   ]
  },
  {
   "cell_type": "code",
   "execution_count": 37,
   "id": "4f4b1a35",
   "metadata": {},
   "outputs": [
    {
     "data": {
      "text/plain": [
       "<AxesSubplot:xlabel='State', ylabel='count'>"
      ]
     },
     "execution_count": 37,
     "metadata": {},
     "output_type": "execute_result"
    },
    {
     "data": {
      "image/png": "[encoded data removed]",
      "text/plain": [
       "<Figure size 1080x648 with 1 Axes>"
      ]
     },
     "metadata": {
      "needs_background": "light"
     },
     "output_type": "display_data"
    }
   ],
   "source": [
    "plt.figure(figsize = (15, 9))\n",
    "plt.xticks(rotation=90)\n",
    "sns.countplot(x = 'State', data = store )"
   ]
  },
  {
   "cell_type": "code",
   "execution_count": 38,
   "id": "2467f36f",
   "metadata": {},
   "outputs": [
    {
     "data": {
      "text/plain": [
       "<AxesSubplot:xlabel='Region', ylabel='count'>"
      ]
     },
     "execution_count": 38,
     "metadata": {},
     "output_type": "execute_result"
    },
    {
     "data": {
      "image/png": "[encoded data removed]",
      "text/plain": [
       "<Figure size 1440x432 with 1 Axes>"
      ]
     },
     "metadata": {
      "needs_background": "light"
     },
     "output_type": "display_data"
    }
   ],
   "source": [
    "plt.figure(figsize = (20, 6))\n",
    "sns.countplot(x = 'Region', hue = 'Category', data = store )"
   ]
  },
  {
   "cell_type": "code",
   "execution_count": 39,
   "id": "176138e1",
   "metadata": {},
   "outputs": [
    {
     "data": {
      "text/plain": [
       "<AxesSubplot:title={'center':'Sales of Top 10 Cities'}, xlabel='City', ylabel='Total sum of Sales'>"
      ]
     },
     "execution_count": 39,
     "metadata": {},
     "output_type": "execute_result"
    },
    {
     "data": {
      "image/png": "[encoded data removed]",
      "text/plain": [
       "<Figure size 432x288 with 1 Axes>"
      ]
     },
     "metadata": {
      "needs_background": "light"
     },
     "output_type": "display_data"
    }
   ],
   "source": [
    "top10 = store.groupby('City')['Sales'].sum().sort_values(ascending = False).iloc[0:10]\n",
    "plt.title('Sales of Top 10 Cities')\n",
    "plt.xlabel('City')\n",
    "plt.ylabel('Total sum of Sales')\n",
    "top10.plot(kind='bar')"
   ]
  },
  {
   "cell_type": "code",
   "execution_count": 40,
   "id": "3899d08a",
   "metadata": {},
   "outputs": [
    {
     "data": {
      "text/plain": [
       "<AxesSubplot:xlabel='Category'>"
      ]
     },
     "execution_count": 40,
     "metadata": {},
     "output_type": "execute_result"
    },
    {
     "data": {
      "image/png": "[encoded data removed]",
      "text/plain": [
       "<Figure size 432x288 with 1 Axes>"
      ]
     },
     "metadata": {
      "needs_background": "light"
     },
     "output_type": "display_data"
    }
   ],
   "source": [
    "store.groupby('Category')[['Sales', 'Profit']].agg(['sum']).plot.bar()"
   ]
  },
  {
   "cell_type": "code",
   "execution_count": 41,
   "id": "de3a3989",
   "metadata": {},
   "outputs": [
    {
     "data": {
      "text/plain": [
       "<AxesSubplot:xlabel='Region', ylabel='count'>"
      ]
     },
     "execution_count": 41,
     "metadata": {},
     "output_type": "execute_result"
    },
    {
     "data": {
      "image/png": "[encoded data removed]",
      "text/plain": [
       "<Figure size 432x288 with 1 Axes>"
      ]
     },
     "metadata": {
      "needs_background": "light"
     },
     "output_type": "display_data"
    }
   ],
   "source": [
    "sns.countplot(x=store['Region'], hue = store['Category'])"
   ]
  },
  {
   "cell_type": "code",
   "execution_count": 52,
   "id": "a1794856",
   "metadata": {},
   "outputs": [
    {
     "data": {
      "text/plain": [
       "<AxesSubplot:xlabel='Region'>"
      ]
     },
     "execution_count": 52,
     "metadata": {},
     "output_type": "execute_result"
    },
    {
     "data": {
      "image/png": "[encoded data removed]",
      "text/plain": [
       "<Figure size 432x288 with 1 Axes>"
      ]
     },
     "metadata": {
      "needs_background": "light"
     },
     "output_type": "display_data"
    }
   ],
   "source": [
    "var = store.groupby('Region').Sales.sum() \n",
    "var.plot(kind='bar') \n"
   ]
  },
  {
   "cell_type": "code",
   "execution_count": 53,
   "id": "1a3de8db",
   "metadata": {},
   "outputs": [
    {
     "data": {
      "text/plain": [
       "<AxesSubplot:xlabel='Region'>"
      ]
     },
     "execution_count": 53,
     "metadata": {},
     "output_type": "execute_result"
    },
    {
     "data": {
      "image/png": "[encoded data removed]",
      "text/plain": [
       "<Figure size 432x288 with 1 Axes>"
      ]
     },
     "metadata": {
      "needs_background": "light"
     },
     "output_type": "display_data"
    }
   ],
   "source": [
    "var1 = store.groupby('Region').Profit.sum() \n",
    "var1.plot(kind='bar') \n"
   ]
  },
  {
   "cell_type": "code",
   "execution_count": 56,
   "id": "f17761dc",
   "metadata": {},
   "outputs": [
    {
     "data": {
      "text/plain": [
       "<AxesSubplot:xlabel='Sub-Category'>"
      ]
     },
     "execution_count": 56,
     "metadata": {},
     "output_type": "execute_result"
    },
    {
     "data": {
      "image/png": "[encoded data removed]",
      "text/plain": [
       "<Figure size 432x288 with 1 Axes>"
      ]
     },
     "metadata": {
      "needs_background": "light"
     },
     "output_type": "display_data"
    }
   ],
   "source": [
    "var1 = store.groupby('Sub-Category').Sales.sum() \n",
    "var1.plot(kind='bar') "
   ]
  },
  {
   "cell_type": "code",
   "execution_count": 57,
   "id": "e4bcd4e9",
   "metadata": {},
   "outputs": [
    {
     "data": {
      "text/plain": [
       "<AxesSubplot:xlabel='Sub-Category'>"
      ]
     },
     "execution_count": 57,
     "metadata": {},
     "output_type": "execute_result"
    },
    {
     "data": {
      "image/png": "[encoded data removed]",
      "text/plain": [
       "<Figure size 432x288 with 1 Axes>"
      ]
     },
     "metadata": {
      "needs_background": "light"
     },
     "output_type": "display_data"
    }
   ],
   "source": [
    "var1 = store.groupby('Sub-Category').Profit.sum() \n",
    "var1.plot(kind='bar') "
   ]
  },
  {
   "cell_type": "code",
   "execution_count": 63,
   "id": "dcbb8f08",
   "metadata": {},
   "outputs": [
    {
     "data": {
      "text/html": [
       "<div>\n",
       "<style scoped>\n",
       "    .dataframe tbody tr th:only-of-type {\n",
       "        vertical-align: middle;\n",
       "    }\n",
       "\n",
       "    .dataframe tbody tr th {\n",
       "        vertical-align: top;\n",
       "    }\n",
       "\n",
       "    .dataframe thead tr th {\n",
       "        text-align: left;\n",
       "    }\n",
       "\n",
       "    .dataframe thead tr:last-of-type th {\n",
       "        text-align: right;\n",
       "    }\n",
       "</style>\n",
       "<table border=\"1\" class=\"dataframe\">\n",
       "  <thead>\n",
       "    <tr>\n",
       "      <th></th>\n",
       "      <th>Sales</th>\n",
       "      <th>Profit</th>\n",
       "    </tr>\n",
       "    <tr>\n",
       "      <th></th>\n",
       "      <th>sum</th>\n",
       "      <th>sum</th>\n",
       "    </tr>\n",
       "    <tr>\n",
       "      <th>State</th>\n",
       "      <th></th>\n",
       "      <th></th>\n",
       "    </tr>\n",
       "  </thead>\n",
       "  <tbody>\n",
       "    <tr>\n",
       "      <th>Alabama</th>\n",
       "      <td>6020.528233</td>\n",
       "      <td>912.402562</td>\n",
       "    </tr>\n",
       "    <tr>\n",
       "      <th>Arizona</th>\n",
       "      <td>22430.986644</td>\n",
       "      <td>1510.552811</td>\n",
       "    </tr>\n",
       "    <tr>\n",
       "      <th>Arkansas</th>\n",
       "      <td>5948.283969</td>\n",
       "      <td>1081.689590</td>\n",
       "    </tr>\n",
       "    <tr>\n",
       "      <th>California</th>\n",
       "      <td>196241.274901</td>\n",
       "      <td>29623.713322</td>\n",
       "    </tr>\n",
       "    <tr>\n",
       "      <th>Colorado</th>\n",
       "      <td>15654.524908</td>\n",
       "      <td>1180.577194</td>\n",
       "    </tr>\n",
       "    <tr>\n",
       "      <th>Connecticut</th>\n",
       "      <td>7223.010675</td>\n",
       "      <td>1052.740248</td>\n",
       "    </tr>\n",
       "    <tr>\n",
       "      <th>Delaware</th>\n",
       "      <td>10218.202969</td>\n",
       "      <td>1635.315192</td>\n",
       "    </tr>\n",
       "    <tr>\n",
       "      <th>District of Columbia</th>\n",
       "      <td>403.299706</td>\n",
       "      <td>117.352572</td>\n",
       "    </tr>\n",
       "    <tr>\n",
       "      <th>Florida</th>\n",
       "      <td>31400.932464</td>\n",
       "      <td>2377.917385</td>\n",
       "    </tr>\n",
       "    <tr>\n",
       "      <th>Georgia</th>\n",
       "      <td>19610.461908</td>\n",
       "      <td>3177.585941</td>\n",
       "    </tr>\n",
       "    <tr>\n",
       "      <th>Idaho</th>\n",
       "      <td>2743.405706</td>\n",
       "      <td>349.435458</td>\n",
       "    </tr>\n",
       "    <tr>\n",
       "      <th>Illinois</th>\n",
       "      <td>41054.094227</td>\n",
       "      <td>1867.251772</td>\n",
       "    </tr>\n",
       "    <tr>\n",
       "      <th>Indiana</th>\n",
       "      <td>13827.871614</td>\n",
       "      <td>2689.836638</td>\n",
       "    </tr>\n",
       "    <tr>\n",
       "      <th>Iowa</th>\n",
       "      <td>2172.669706</td>\n",
       "      <td>474.321330</td>\n",
       "    </tr>\n",
       "    <tr>\n",
       "      <th>Kansas</th>\n",
       "      <td>2914.310000</td>\n",
       "      <td>427.813844</td>\n",
       "    </tr>\n",
       "    <tr>\n",
       "      <th>Kentucky</th>\n",
       "      <td>13023.496466</td>\n",
       "      <td>2489.844824</td>\n",
       "    </tr>\n",
       "    <tr>\n",
       "      <th>Louisiana</th>\n",
       "      <td>3796.263969</td>\n",
       "      <td>708.909102</td>\n",
       "    </tr>\n",
       "    <tr>\n",
       "      <th>Maine</th>\n",
       "      <td>1270.530000</td>\n",
       "      <td>128.546058</td>\n",
       "    </tr>\n",
       "    <tr>\n",
       "      <th>Maryland</th>\n",
       "      <td>10357.989939</td>\n",
       "      <td>1965.905778</td>\n",
       "    </tr>\n",
       "    <tr>\n",
       "      <th>Massachusetts</th>\n",
       "      <td>13643.054497</td>\n",
       "      <td>2225.990524</td>\n",
       "    </tr>\n",
       "    <tr>\n",
       "      <th>Michigan</th>\n",
       "      <td>28504.510994</td>\n",
       "      <td>4707.672117</td>\n",
       "    </tr>\n",
       "    <tr>\n",
       "      <th>Minnesota</th>\n",
       "      <td>7544.622792</td>\n",
       "      <td>1405.968834</td>\n",
       "    </tr>\n",
       "    <tr>\n",
       "      <th>Mississippi</th>\n",
       "      <td>5755.369117</td>\n",
       "      <td>890.915590</td>\n",
       "    </tr>\n",
       "    <tr>\n",
       "      <th>Missouri</th>\n",
       "      <td>5858.088528</td>\n",
       "      <td>1209.896046</td>\n",
       "    </tr>\n",
       "    <tr>\n",
       "      <th>Montana</th>\n",
       "      <td>1649.111706</td>\n",
       "      <td>244.343958</td>\n",
       "    </tr>\n",
       "    <tr>\n",
       "      <th>Nebraska</th>\n",
       "      <td>2705.369411</td>\n",
       "      <td>552.668916</td>\n",
       "    </tr>\n",
       "    <tr>\n",
       "      <th>Nevada</th>\n",
       "      <td>3148.850822</td>\n",
       "      <td>893.715202</td>\n",
       "    </tr>\n",
       "    <tr>\n",
       "      <th>New Hampshire</th>\n",
       "      <td>2864.019411</td>\n",
       "      <td>614.273616</td>\n",
       "    </tr>\n",
       "    <tr>\n",
       "      <th>New Jersey</th>\n",
       "      <td>12373.535086</td>\n",
       "      <td>1978.903580</td>\n",
       "    </tr>\n",
       "    <tr>\n",
       "      <th>New Mexico</th>\n",
       "      <td>3037.426558</td>\n",
       "      <td>497.788702</td>\n",
       "    </tr>\n",
       "    <tr>\n",
       "      <th>New York</th>\n",
       "      <td>104853.430388</td>\n",
       "      <td>16406.106403</td>\n",
       "    </tr>\n",
       "    <tr>\n",
       "      <th>North Carolina</th>\n",
       "      <td>21009.926025</td>\n",
       "      <td>1869.224795</td>\n",
       "    </tr>\n",
       "    <tr>\n",
       "      <th>North Dakota</th>\n",
       "      <td>308.014853</td>\n",
       "      <td>79.658986</td>\n",
       "    </tr>\n",
       "    <tr>\n",
       "      <th>Ohio</th>\n",
       "      <td>40649.935552</td>\n",
       "      <td>2230.900909</td>\n",
       "    </tr>\n",
       "    <tr>\n",
       "      <th>Oklahoma</th>\n",
       "      <td>8138.403380</td>\n",
       "      <td>1190.080948</td>\n",
       "    </tr>\n",
       "    <tr>\n",
       "      <th>Oregon</th>\n",
       "      <td>12013.209822</td>\n",
       "      <td>1078.864534</td>\n",
       "    </tr>\n",
       "    <tr>\n",
       "      <th>Pennsylvania</th>\n",
       "      <td>50700.154755</td>\n",
       "      <td>1973.411288</td>\n",
       "    </tr>\n",
       "    <tr>\n",
       "      <th>Rhode Island</th>\n",
       "      <td>5330.188233</td>\n",
       "      <td>799.361276</td>\n",
       "    </tr>\n",
       "    <tr>\n",
       "      <th>South Carolina</th>\n",
       "      <td>4026.369117</td>\n",
       "      <td>743.540216</td>\n",
       "    </tr>\n",
       "    <tr>\n",
       "      <th>South Dakota</th>\n",
       "      <td>1315.560000</td>\n",
       "      <td>173.040272</td>\n",
       "    </tr>\n",
       "    <tr>\n",
       "      <th>Tennessee</th>\n",
       "      <td>13848.104644</td>\n",
       "      <td>1082.949378</td>\n",
       "    </tr>\n",
       "    <tr>\n",
       "      <th>Texas</th>\n",
       "      <td>79943.853149</td>\n",
       "      <td>3776.073919</td>\n",
       "    </tr>\n",
       "    <tr>\n",
       "      <th>Utah</th>\n",
       "      <td>4530.365117</td>\n",
       "      <td>843.192760</td>\n",
       "    </tr>\n",
       "    <tr>\n",
       "      <th>Vermont</th>\n",
       "      <td>871.614264</td>\n",
       "      <td>215.698130</td>\n",
       "    </tr>\n",
       "    <tr>\n",
       "      <th>Virginia</th>\n",
       "      <td>21898.359847</td>\n",
       "      <td>4030.234043</td>\n",
       "    </tr>\n",
       "    <tr>\n",
       "      <th>Washington</th>\n",
       "      <td>47386.841136</td>\n",
       "      <td>7872.517907</td>\n",
       "    </tr>\n",
       "    <tr>\n",
       "      <th>West Virginia</th>\n",
       "      <td>629.344853</td>\n",
       "      <td>66.641772</td>\n",
       "    </tr>\n",
       "    <tr>\n",
       "      <th>Wisconsin</th>\n",
       "      <td>12411.327055</td>\n",
       "      <td>1912.127152</td>\n",
       "    </tr>\n",
       "    <tr>\n",
       "      <th>Wyoming</th>\n",
       "      <td>92.864853</td>\n",
       "      <td>11.604086</td>\n",
       "    </tr>\n",
       "  </tbody>\n",
       "</table>\n",
       "</div>"
      ],
      "text/plain": [
       "                              Sales        Profit\n",
       "                                sum           sum\n",
       "State                                            \n",
       "Alabama                 6020.528233    912.402562\n",
       "Arizona                22430.986644   1510.552811\n",
       "Arkansas                5948.283969   1081.689590\n",
       "California            196241.274901  29623.713322\n",
       "Colorado               15654.524908   1180.577194\n",
       "Connecticut             7223.010675   1052.740248\n",
       "Delaware               10218.202969   1635.315192\n",
       "District of Columbia     403.299706    117.352572\n",
       "Florida                31400.932464   2377.917385\n",
       "Georgia                19610.461908   3177.585941\n",
       "Idaho                   2743.405706    349.435458\n",
       "Illinois               41054.094227   1867.251772\n",
       "Indiana                13827.871614   2689.836638\n",
       "Iowa                    2172.669706    474.321330\n",
       "Kansas                  2914.310000    427.813844\n",
       "Kentucky               13023.496466   2489.844824\n",
       "Louisiana               3796.263969    708.909102\n",
       "Maine                   1270.530000    128.546058\n",
       "Maryland               10357.989939   1965.905778\n",
       "Massachusetts          13643.054497   2225.990524\n",
       "Michigan               28504.510994   4707.672117\n",
       "Minnesota               7544.622792   1405.968834\n",
       "Mississippi             5755.369117    890.915590\n",
       "Missouri                5858.088528   1209.896046\n",
       "Montana                 1649.111706    244.343958\n",
       "Nebraska                2705.369411    552.668916\n",
       "Nevada                  3148.850822    893.715202\n",
       "New Hampshire           2864.019411    614.273616\n",
       "New Jersey             12373.535086   1978.903580\n",
       "New Mexico              3037.426558    497.788702\n",
       "New York              104853.430388  16406.106403\n",
       "North Carolina         21009.926025   1869.224795\n",
       "North Dakota             308.014853     79.658986\n",
       "Ohio                   40649.935552   2230.900909\n",
       "Oklahoma                8138.403380   1190.080948\n",
       "Oregon                 12013.209822   1078.864534\n",
       "Pennsylvania           50700.154755   1973.411288\n",
       "Rhode Island            5330.188233    799.361276\n",
       "South Carolina          4026.369117    743.540216\n",
       "South Dakota            1315.560000    173.040272\n",
       "Tennessee              13848.104644   1082.949378\n",
       "Texas                  79943.853149   3776.073919\n",
       "Utah                    4530.365117    843.192760\n",
       "Vermont                  871.614264    215.698130\n",
       "Virginia               21898.359847   4030.234043\n",
       "Washington             47386.841136   7872.517907\n",
       "West Virginia            629.344853     66.641772\n",
       "Wisconsin              12411.327055   1912.127152\n",
       "Wyoming                   92.864853     11.604086"
      ]
     },
     "execution_count": 63,
     "metadata": {},
     "output_type": "execute_result"
    }
   ],
   "source": [
    "store.groupby('State')[['Sales', 'Profit']].agg(['sum'])"
   ]
  },
  {
   "cell_type": "markdown",
   "id": "8e8a1ae8",
   "metadata": {},
   "source": [
    "Conclusion :\n",
    "\n",
    "1. We should limit the sales of furniture and increase that of office supplies and technology as furtinute is generating very less profit as compared to its sales.\n",
    "2. In the sub-gategories we are facing huge loss on the sale of tables so its sale should be minimized.\n",
    "3. The sales and profit in Southern and Central region are less so we should give more incentives like discount in these states in order to increase sales, hence profit will increase.\n",
    "4. After the highest sales in California we have high value of potenial customers in Texas and New York so we should concentrate more on these states to generate more profit.\n",
    "5. We have highest purchases in consumer segment but we should also concentrate on corporate and home office segments to increase our sales and profit.\n",
    "6. Few states like North Dakota, Wyoming and West Virginia have less or no sales at all so we also need to focus on these state."
   ]
  },
  {
   "cell_type": "code",
   "execution_count": null,
   "id": "01c3290d",
   "metadata": {},
   "outputs": [],
   "source": []
  }
 ],
 "metadata": {
  "kernelspec": {
   "display_name": "Python [conda env:HelloProject]",
   "language": "python",
   "name": "conda-env-HelloProject-py"
  },
  "language_info": {
   "codemirror_mode": {
    "name": "ipython",
    "version": 3
   },
   "file_extension": ".py",
   "mimetype": "text/x-python",
   "name": "python",
   "nbconvert_exporter": "python",
   "pygments_lexer": "ipython3",
   "version": "3.9.7"
  }
 },
 "nbformat": 4,
 "nbformat_minor": 5
}
